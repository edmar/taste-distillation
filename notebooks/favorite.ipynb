{
 "cells": [
  {
   "cell_type": "markdown",
   "metadata": {},
   "source": [
    "# Favorite"
   ]
  },
  {
   "cell_type": "code",
   "execution_count": 11,
   "metadata": {},
   "outputs": [],
   "source": [
    "\n",
    "import dspy\n",
    "from typing import Optional\n",
    "\n",
    "\n",
    "def create_favorite_predictor_signature(rubric: Optional[str] = None):\n",
    "    \"\"\"Create a FavoritePredictor signature with rubric embedded in instructions.\"\"\"\n",
    "    \n",
    "    instruction = \"Predict whether an article will be marked as favorite based on its title.\"\n",
    "    \n",
    "    if rubric:\n",
    "        instruction += f\"\\n\\nUse the following taste rubric as guidance:\\n{rubric}\"\n",
    "    \n",
    "    return dspy.Signature(\n",
    "        \"title -> is_favorite: bool\",\n",
    "        instruction\n",
    "    )\n",
    "\n",
    "\n",
    "def create_favorite_predictor_with_reasoning_signature(rubric: Optional[str] = None):\n",
    "    \"\"\"Create a FavoritePredictorWithReasoning signature with rubric embedded in instructions.\"\"\"\n",
    "    \n",
    "    instruction = \"Predict whether an article will be marked as favorite based on its title with detailed reasoning.\"\n",
    "    \n",
    "    if rubric:\n",
    "        instruction += f\"\\n\\nUse the following taste rubric as guidance:\\n{rubric}\"\n",
    "    \n",
    "    return dspy.Signature(\n",
    "        \"title -> is_favorite: bool, reasoning: str\",\n",
    "        instruction\n",
    "    )\n",
    "\n",
    "\n",
    "class TastePredictionModule(dspy.Module):\n",
    "    \"\"\"DSPy module for predicting favorite articles from titles.\"\"\"\n",
    "    \n",
    "    def __init__(self, use_reasoning: bool = True, rubric: Optional[str] = None):\n",
    "        super().__init__()\n",
    "        self.use_reasoning = use_reasoning\n",
    "        \n",
    "        if use_reasoning:\n",
    "            signature = create_favorite_predictor_with_reasoning_signature(rubric)\n",
    "            self.predict_favorite = dspy.ChainOfThought(signature)\n",
    "        else:\n",
    "            signature = create_favorite_predictor_signature(rubric)\n",
    "            self.predict_favorite = dspy.Predict(signature)\n",
    "    \n",
    "    def forward(self, title: str):\n",
    "        \"\"\"Predict if an article title indicates a favorite.\"\"\"\n",
    "        result = self.predict_favorite(title=title)\n",
    "        return result"
   ]
  },
  {
   "cell_type": "markdown",
   "metadata": {},
   "source": [
    "# Load dataset"
   ]
  },
  {
   "cell_type": "code",
   "execution_count": 15,
   "metadata": {},
   "outputs": [],
   "source": [
    "import json\n",
    "dataset_path = \"/Users/edmar/Code/research/taste/main/data/reader_shortlist/test/dspy_examples.json\"\n",
    "\n",
    "with open(dataset_path, \"r\") as f:\n",
    "    dataset = json.load(f)\n",
    "\n",
    "# Convert to DSPy format\n",
    "label_field = 'is_favorite' if 'is_favorite' in dataset[0] else 'is_shortlist'\n",
    "test_examples = [\n",
    "    dspy.Example(title=item['title'], is_favorite=item[label_field]).with_inputs('title')\n",
    "    for item in dataset\n",
    "]"
   ]
  },
  {
   "cell_type": "markdown",
   "metadata": {},
   "source": [
    "\n",
    "# Run Evaluation"
   ]
  },
  {
   "cell_type": "code",
   "execution_count": 16,
   "metadata": {},
   "outputs": [],
   "source": [
    "def accuracy_metric(example, pred, trace=None):\n",
    "    \"\"\"Simple accuracy metric for DSPy evaluation\"\"\"\n",
    "    return example.is_favorite == pred.is_favorite"
   ]
  },
  {
   "cell_type": "code",
   "execution_count": 23,
   "metadata": {},
   "outputs": [
    {
     "name": "stderr",
     "output_type": "stream",
     "text": [
      "2025/07/06 13:08:01 ERROR dspy.utils.parallelizer: Error for Example({'title': \"When Fine-Tuning Actually Makes Sense: A Developer's Guide\", 'is_favorite': False}) (input_keys={'title'}): No LM is loaded.. Set `provide_traceback=True` for traceback.\n",
      "2025/07/06 13:08:01 ERROR dspy.utils.parallelizer: Error for Example({'title': 'The Generalize Step In TDD', 'is_favorite': True}) (input_keys={'title'}): No LM is loaded.. Set `provide_traceback=True` for traceback.\n",
      "2025/07/06 13:08:01 ERROR dspy.utils.parallelizer: Error for Example({'title': 'Human coders are still better than LLMs', 'is_favorite': True}) (input_keys={'title'}): No LM is loaded.. Set `provide_traceback=True` for traceback.\n",
      "2025/07/06 13:08:01 ERROR dspy.utils.parallelizer: Error for Example({'title': 'Agencymaxxing', 'is_favorite': False}) (input_keys={'title'}): No LM is loaded.. Set `provide_traceback=True` for traceback.\n"
     ]
    },
    {
     "name": "stdout",
     "output_type": "stream",
     "text": [
      "  0%|          | 0/134 [00:00<?, ?it/s]"
     ]
    },
    {
     "name": "stderr",
     "output_type": "stream",
     "text": [
      "2025/07/06 13:08:01 ERROR dspy.utils.parallelizer: Error for Example({'title': 'More Lore of the World', 'is_favorite': False}) (input_keys={'title'}): No LM is loaded.. Set `provide_traceback=True` for traceback.\n"
     ]
    },
    {
     "name": "stdout",
     "output_type": "stream",
     "text": [
      "  0%|          | 0/134 [00:00<?, ?it/s]"
     ]
    },
    {
     "name": "stderr",
     "output_type": "stream",
     "text": [
      "2025/07/06 13:08:01 WARNING dspy.utils.parallelizer: Execution cancelled due to errors or interruption.\n"
     ]
    },
    {
     "name": "stdout",
     "output_type": "stream",
     "text": [
      "\n"
     ]
    },
    {
     "ename": "Exception",
     "evalue": "Execution cancelled due to errors or interruption.",
     "output_type": "error",
     "traceback": [
      "\u001b[31m---------------------------------------------------------------------------\u001b[39m",
      "\u001b[31mException\u001b[39m                                 Traceback (most recent call last)",
      "\u001b[36mCell\u001b[39m\u001b[36m \u001b[39m\u001b[32mIn[23]\u001b[39m\u001b[32m, line 9\u001b[39m\n\u001b[32m      5\u001b[39m evaluator = Evaluate(devset=test_examples,metric=accuracy_metric, num_threads=\u001b[32m8\u001b[39m, display_progress=\u001b[38;5;28;01mTrue\u001b[39;00m)\n\u001b[32m      7\u001b[39m module = TastePredictionModule(use_reasoning=\u001b[38;5;28;01mTrue\u001b[39;00m, rubric=\u001b[33m\"\u001b[39m\u001b[33m\"\u001b[39m)\n\u001b[32m----> \u001b[39m\u001b[32m9\u001b[39m \u001b[43mevaluator\u001b[49m\u001b[43m(\u001b[49m\u001b[43mmodule\u001b[49m\u001b[43m)\u001b[49m\n",
      "\u001b[36mFile \u001b[39m\u001b[32m~/Code/research/taste/main/.venv/lib/python3.12/site-packages/dspy/utils/callback.py:326\u001b[39m, in \u001b[36mwith_callbacks.<locals>.sync_wrapper\u001b[39m\u001b[34m(instance, *args, **kwargs)\u001b[39m\n\u001b[32m    324\u001b[39m callbacks = _get_active_callbacks(instance)\n\u001b[32m    325\u001b[39m \u001b[38;5;28;01mif\u001b[39;00m \u001b[38;5;129;01mnot\u001b[39;00m callbacks:\n\u001b[32m--> \u001b[39m\u001b[32m326\u001b[39m     \u001b[38;5;28;01mreturn\u001b[39;00m \u001b[43mfn\u001b[49m\u001b[43m(\u001b[49m\u001b[43minstance\u001b[49m\u001b[43m,\u001b[49m\u001b[43m \u001b[49m\u001b[43m*\u001b[49m\u001b[43margs\u001b[49m\u001b[43m,\u001b[49m\u001b[43m \u001b[49m\u001b[43m*\u001b[49m\u001b[43m*\u001b[49m\u001b[43mkwargs\u001b[49m\u001b[43m)\u001b[49m\n\u001b[32m    328\u001b[39m call_id = uuid.uuid4().hex\n\u001b[32m    330\u001b[39m _execute_start_callbacks(instance, fn, call_id, callbacks, args, kwargs)\n",
      "\u001b[36mFile \u001b[39m\u001b[32m~/Code/research/taste/main/.venv/lib/python3.12/site-packages/dspy/evaluate/evaluate.py:171\u001b[39m, in \u001b[36mEvaluate.__call__\u001b[39m\u001b[34m(self, program, metric, devset, num_threads, display_progress, display_table, return_all_scores, return_outputs, callback_metadata)\u001b[39m\n\u001b[32m    167\u001b[39m         program._suggest_failures += dspy.settings.get(\u001b[33m\"\u001b[39m\u001b[33msuggest_failures\u001b[39m\u001b[33m\"\u001b[39m)\n\u001b[32m    169\u001b[39m     \u001b[38;5;28;01mreturn\u001b[39;00m prediction, score\n\u001b[32m--> \u001b[39m\u001b[32m171\u001b[39m results = \u001b[43mexecutor\u001b[49m\u001b[43m.\u001b[49m\u001b[43mexecute\u001b[49m\u001b[43m(\u001b[49m\u001b[43mprocess_item\u001b[49m\u001b[43m,\u001b[49m\u001b[43m \u001b[49m\u001b[43mdevset\u001b[49m\u001b[43m)\u001b[49m\n\u001b[32m    172\u001b[39m \u001b[38;5;28;01massert\u001b[39;00m \u001b[38;5;28mlen\u001b[39m(devset) == \u001b[38;5;28mlen\u001b[39m(results)\n\u001b[32m    174\u001b[39m results = [((dspy.Prediction(), \u001b[38;5;28mself\u001b[39m.failure_score) \u001b[38;5;28;01mif\u001b[39;00m r \u001b[38;5;129;01mis\u001b[39;00m \u001b[38;5;28;01mNone\u001b[39;00m \u001b[38;5;28;01melse\u001b[39;00m r) \u001b[38;5;28;01mfor\u001b[39;00m r \u001b[38;5;129;01min\u001b[39;00m results]\n",
      "\u001b[36mFile \u001b[39m\u001b[32m~/Code/research/taste/main/.venv/lib/python3.12/site-packages/dspy/utils/parallelizer.py:48\u001b[39m, in \u001b[36mParallelExecutor.execute\u001b[39m\u001b[34m(self, function, data)\u001b[39m\n\u001b[32m     46\u001b[39m tqdm.tqdm._instances.clear()\n\u001b[32m     47\u001b[39m wrapped = \u001b[38;5;28mself\u001b[39m._wrap_function(function)\n\u001b[32m---> \u001b[39m\u001b[32m48\u001b[39m \u001b[38;5;28;01mreturn\u001b[39;00m \u001b[38;5;28;43mself\u001b[39;49m\u001b[43m.\u001b[49m\u001b[43m_execute_parallel\u001b[49m\u001b[43m(\u001b[49m\u001b[43mwrapped\u001b[49m\u001b[43m,\u001b[49m\u001b[43m \u001b[49m\u001b[43mdata\u001b[49m\u001b[43m)\u001b[49m\n",
      "\u001b[36mFile \u001b[39m\u001b[32m~/Code/research/taste/main/.venv/lib/python3.12/site-packages/dspy/utils/parallelizer.py:203\u001b[39m, in \u001b[36mParallelExecutor._execute_parallel\u001b[39m\u001b[34m(self, function, data)\u001b[39m\n\u001b[32m    201\u001b[39m \u001b[38;5;28;01mif\u001b[39;00m \u001b[38;5;28mself\u001b[39m.cancel_jobs.is_set():\n\u001b[32m    202\u001b[39m     logger.warning(\u001b[33m\"\u001b[39m\u001b[33mExecution cancelled due to errors or interruption.\u001b[39m\u001b[33m\"\u001b[39m)\n\u001b[32m--> \u001b[39m\u001b[32m203\u001b[39m     \u001b[38;5;28;01mraise\u001b[39;00m \u001b[38;5;167;01mException\u001b[39;00m(\u001b[33m\"\u001b[39m\u001b[33mExecution cancelled due to errors or interruption.\u001b[39m\u001b[33m\"\u001b[39m)\n\u001b[32m    205\u001b[39m \u001b[38;5;28;01mreturn\u001b[39;00m results\n",
      "\u001b[31mException\u001b[39m: Execution cancelled due to errors or interruption."
     ]
    }
   ],
   "source": [
    "import dspy\n",
    "from dspy.evaluate import Evaluate\n",
    "\n",
    "\n",
    "evaluator = Evaluate(devset=test_examples,metric=accuracy_metric, num_threads=8, display_progress=True)\n",
    "\n",
    "module = TastePredictionModule(use_reasoning=True, rubric=\"\")\n",
    "\n",
    "evaluator(module)"
   ]
  }
 ],
 "metadata": {
  "kernelspec": {
   "display_name": ".venv",
   "language": "python",
   "name": "python3"
  },
  "language_info": {
   "codemirror_mode": {
    "name": "ipython",
    "version": 3
   },
   "file_extension": ".py",
   "mimetype": "text/x-python",
   "name": "python",
   "nbconvert_exporter": "python",
   "pygments_lexer": "ipython3",
   "version": "3.12.9"
  }
 },
 "nbformat": 4,
 "nbformat_minor": 4
}
