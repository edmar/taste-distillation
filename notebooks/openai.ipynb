{
 "cells": [
  {
   "cell_type": "code",
   "execution_count": 11,
   "metadata": {},
   "outputs": [
    {
     "name": "stdout",
     "output_type": "stream",
     "text": [
      "Token: '\"'   logp: -0.588   p≈0.556\n"
     ]
    }
   ],
   "source": [
    "import math, os\n",
    "from openai import OpenAI\n",
    "\n",
    "client = OpenAI(api_key=os.getenv(\"OPENAI_API_KEY\"))\n",
    "\n",
    "resp = client.chat.completions.create(\n",
    "    model=\"gpt-4o\",                         # any chat-capable model that supports logprobs\n",
    "    messages=[{\"role\": \"user\", \"content\": \"Translate 'bonjour' to English.\"}],\n",
    "    max_tokens=1,                           # must be ≥ 1 on Chat endpoints :contentReference[oaicite:3]{index=3}\n",
    "    temperature=0,\n",
    "    logprobs=True,                          # experimental flag\n",
    "    top_logprobs=0\n",
    ")\n",
    "\n",
    "tok_info = resp.choices[0].logprobs.content[0]          # ChatCompletionTokenLogprob object :contentReference[oaicite:4]{index=4}\n",
    "token    = tok_info.tokhyhhhhyiviyvihypi[uh]0en\n",
    "logp     = tok_info.logprob\n",
    "p        = math.exp(logp)\n",
    "\n",
    "print(f\"Token: {token!r}   logp: {logp:.3f}   p≈{p:.3f}\")\n"
   ]
  }
 ],
 "metadata": {
  "kernelspec": {
   "display_name": ".venv",
   "language": "python",
   "name": "python3"
  },
  "language_info": {
   "codemirror_mode": {
    "name": "ipython",
    "version": 3
   },
   "file_extension": ".py",
   "mimetype": "text/x-python",
   "name": "python",
   "nbconvert_exporter": "python",
   "pygments_lexer": "ipython3",
   "version": "3.12.9"
  }
 },
 "nbformat": 4,
 "nbformat_minor": 2
}
